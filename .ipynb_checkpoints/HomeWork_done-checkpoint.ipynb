{
 "cells": [
  {
   "cell_type": "markdown",
   "metadata": {},
   "source": [
    "# Functions, Scoping, Data Collections 1 & List Comprehensions"
   ]
  },
  {
   "cell_type": "markdown",
   "metadata": {},
   "source": [
    "## Tasks Today:\n",
    "\n",
    "<i>Monday Additions (or, and ... if statements)</i>\n",
    "\n",
    "1) String Manipulation <br>\n",
    " &nbsp;&nbsp;&nbsp;&nbsp; a) strip() <br>\n",
    " &nbsp;&nbsp;&nbsp;&nbsp; b) title() <br>\n",
    "2) Working With Lists <br>\n",
    " &nbsp;&nbsp;&nbsp;&nbsp; a) min() <br>\n",
    " &nbsp;&nbsp;&nbsp;&nbsp; b) max() <br>\n",
    " &nbsp;&nbsp;&nbsp;&nbsp; c) sum() <br>\n",
    " &nbsp;&nbsp;&nbsp;&nbsp; d) sort() <br>\n",
    " &nbsp;&nbsp;&nbsp;&nbsp; e) Copying a List <br>\n",
    " &nbsp;&nbsp;&nbsp;&nbsp; f) 'in' keyword <br>\n",
    " &nbsp;&nbsp;&nbsp;&nbsp; g) 'not in' keyword <br>\n",
    " &nbsp;&nbsp;&nbsp;&nbsp; i) Checking an Empty List <br>\n",
    " &nbsp;&nbsp;&nbsp;&nbsp; j) Removing Instances with a Loop <br>\n",
    "3) List Comprehensions <br>\n",
    "4) Tuples <br>\n",
    " &nbsp;&nbsp;&nbsp;&nbsp; a) sorted() <br>\n",
    "5) Functions <br>\n",
    " &nbsp;&nbsp;&nbsp;&nbsp; a) User-Defined vs. Built-In Functions <br>\n",
    " &nbsp;&nbsp;&nbsp;&nbsp; b) Accepting Parameters <br>\n",
    " &nbsp;&nbsp;&nbsp;&nbsp; c) Default Parameters <br>\n",
    " &nbsp;&nbsp;&nbsp;&nbsp; d) Making an Argument Optional <br>\n",
    " &nbsp;&nbsp;&nbsp;&nbsp; e) Keyword Arguments <br>\n",
    " &nbsp;&nbsp;&nbsp;&nbsp; f) Returning Values <br>\n",
    " &nbsp;&nbsp;&nbsp;&nbsp; g) *args <br>\n",
    " &nbsp;&nbsp;&nbsp;&nbsp; h) Docstring <br>\n",
    " &nbsp;&nbsp;&nbsp;&nbsp; i) Using a User Function in a Loop <br>\n",
    "6) Scope"
   ]
  },
  {
   "cell_type": "markdown",
   "metadata": {},
   "source": [
    "### String Manipulation"
   ]
  },
  {
   "cell_type": "markdown",
   "metadata": {},
   "source": [
    "##### .lstrip()"
   ]
  },
  {
   "cell_type": "code",
   "execution_count": 1,
   "metadata": {},
   "outputs": [
    {
     "data": {
      "text/plain": [
       "'pearl duncan    '"
      ]
     },
     "execution_count": 1,
     "metadata": {},
     "output_type": "execute_result"
    }
   ],
   "source": [
    "# string.lstrip()\n",
    "#removes white space on the left side\n",
    "#does not change original string, just makes a new one with the same info, just no space \n",
    "#to override: name=name.lstrip--- this one chages the original string\n",
    "#you can add something in to the () and it will get rid of the first instaces of those characters\n",
    "\n",
    "name = '    pearl duncan    '\n",
    "name.lstrip()\n",
    "\n",
    "\n"
   ]
  },
  {
   "cell_type": "markdown",
   "metadata": {},
   "source": [
    "##### .rstrip()"
   ]
  },
  {
   "cell_type": "code",
   "execution_count": 2,
   "metadata": {},
   "outputs": [
    {
     "data": {
      "text/plain": [
       "'    pearl duncan'"
      ]
     },
     "execution_count": 2,
     "metadata": {},
     "output_type": "execute_result"
    }
   ],
   "source": [
    "# string.rstrip()\n",
    "#gets rid of space on right side\n",
    "\n",
    "name = '    pearl duncan    '\n",
    "name.rstrip()"
   ]
  },
  {
   "cell_type": "markdown",
   "metadata": {},
   "source": [
    "##### .strip()"
   ]
  },
  {
   "cell_type": "code",
   "execution_count": null,
   "metadata": {},
   "outputs": [],
   "source": [
    "# string.strip()\n",
    "#gets rid of space on both sides\n",
    "\n",
    "name = '    pearl duncan    '\n",
    "name.strip()"
   ]
  },
  {
   "cell_type": "markdown",
   "metadata": {},
   "source": [
    "##### .title()"
   ]
  },
  {
   "cell_type": "code",
   "execution_count": 3,
   "metadata": {},
   "outputs": [
    {
     "name": "stdout",
     "output_type": "stream",
     "text": [
      "Harry Potter And The Sorcerers Stone\n",
      "Harry potter and the sorcerers stone\n",
      "harry potter and the sorcerers stone\n",
      "HARRY POTTER AND THE SORCERERS STONE\n"
     ]
    }
   ],
   "source": [
    "# string.title()\n",
    "\n",
    "movie = 'Harry Potter and the SoRcerERs STONE'\n",
    "\n",
    "print(movie.title()) #capitalizes every letter after a space\n",
    "print(movie.capitalize()) #capitalizes the first letter of list\n",
    "print(movie.lower()) #makes every letter in list lower case\n",
    "print(movie.upper()) #capitalizes every letter in list\n"
   ]
  },
  {
   "cell_type": "markdown",
   "metadata": {},
   "source": [
    "### String Exercise <br>\n",
    "<p>Strip all white space and capitalize every name in the list given</p>"
   ]
  },
  {
   "cell_type": "code",
   "execution_count": 22,
   "metadata": {},
   "outputs": [
    {
     "name": "stdout",
     "output_type": "stream",
     "text": [
      "['Connor', 'Max', 'Evan', 'Jordan']\n"
     ]
    }
   ],
   "source": [
    "names = ['    coNNor', 'max', ' EVan ', 'JORDAN']\n",
    "# HINT: You will need to use a for loop for iteration\n",
    "\n",
    "fixed=[] #opens up new list so we have somewhere to put the fixed names\n",
    "for name in names:\n",
    "    fixed_names = name.strip().title() #fixes names\n",
    "    fixed.append(fixed_names) #overrids original list and adds fixed names onto it instead of making each fixed name its own list\n",
    "\n",
    "print(fixed)\n",
    "\n"
   ]
  },
  {
   "cell_type": "markdown",
   "metadata": {},
   "source": [
    "### Working With Lists"
   ]
  },
  {
   "cell_type": "markdown",
   "metadata": {},
   "source": [
    "##### min()"
   ]
  },
  {
   "cell_type": "code",
   "execution_count": 25,
   "metadata": {},
   "outputs": [
    {
     "name": "stdout",
     "output_type": "stream",
     "text": [
      "5\n"
     ]
    }
   ],
   "source": [
    "# min(list)\n",
    "\n",
    "numbers=[5,97,100,12,32,50]\n",
    "my_min=min(numbers) #finds smallest item in list\n",
    "print(my_min)"
   ]
  },
  {
   "cell_type": "markdown",
   "metadata": {},
   "source": [
    "##### max()"
   ]
  },
  {
   "cell_type": "code",
   "execution_count": 26,
   "metadata": {},
   "outputs": [
    {
     "name": "stdout",
     "output_type": "stream",
     "text": [
      "100\n"
     ]
    }
   ],
   "source": [
    "# max(list)\n",
    "#finds biggest item \n",
    "\n",
    "print(max(numbers))"
   ]
  },
  {
   "cell_type": "markdown",
   "metadata": {},
   "source": [
    "##### sum()"
   ]
  },
  {
   "cell_type": "code",
   "execution_count": 27,
   "metadata": {},
   "outputs": [
    {
     "name": "stdout",
     "output_type": "stream",
     "text": [
      "296\n"
     ]
    }
   ],
   "source": [
    "# sum(list)\n",
    "#add all items together\n",
    "\n",
    "my_sum=sum(numbers)\n",
    "print(my_sum)"
   ]
  },
  {
   "cell_type": "markdown",
   "metadata": {},
   "source": [
    "##### sorted()"
   ]
  },
  {
   "cell_type": "code",
   "execution_count": 28,
   "metadata": {},
   "outputs": [
    {
     "name": "stdout",
     "output_type": "stream",
     "text": [
      "[5, 12, 32, 50, 97, 100]\n",
      "[5, 97, 100, 12, 32, 50]\n"
     ]
    }
   ],
   "source": [
    "# sorted(list)\n",
    "#out of place - the original list is left in-tack\n",
    "\n",
    "sorted_version= sorted(numbers)\n",
    "print(sorted_version)\n",
    "print(numbers)\n"
   ]
  },
  {
   "cell_type": "markdown",
   "metadata": {},
   "source": [
    "##### .sort() <br>\n",
    "<p>Difference between sort and sorted, is that sorted doesn't change original list it returns a copy, while .sort changes the original list</p>"
   ]
  },
  {
   "cell_type": "code",
   "execution_count": 29,
   "metadata": {},
   "outputs": [
    {
     "name": "stdout",
     "output_type": "stream",
     "text": [
      "None\n",
      "[5, 12, 32, 50, 97, 100]\n"
     ]
    }
   ],
   "source": [
    "# list.sort()\n",
    "#in place- will affect original list\n",
    "\n",
    "\n",
    "# use sorted when you don't want to alter original list, use .sort() when you want to alter original list\n",
    "\n",
    "\n",
    "result=numbers.sort() #nothing saved here because it just changed the original list\n",
    "print(result)\n",
    "print(numbers)"
   ]
  },
  {
   "cell_type": "markdown",
   "metadata": {},
   "source": [
    "##### Copying a List"
   ]
  },
  {
   "cell_type": "code",
   "execution_count": 39,
   "metadata": {},
   "outputs": [
    {
     "name": "stdout",
     "output_type": "stream",
     "text": [
      "[5, 5, 5, 4, 5, 23, 25135, 45, 3562, 35, 3452, 5, 423, 345, 25, 345, 25, 345, 3]\n",
      "[5, 5, 5, 4, 5, 23, 25135, 45, 3562, 35, 3452, 5, 423, 345, 25, 345, 25, 345, 3]\n",
      "[5, 5, 5, 4, 5]\n",
      "[4, 5, 23, 25135, 45, 3562, 35, 3452, 5, 423, 345, 25, 345, 25, 345, 3]\n",
      "[4, 5, 23]\n",
      "[4, 23, 45]\n",
      "[3, 345, 25, 345, 25, 345, 423, 5, 3452, 35, 3562, 45, 25135, 23, 5, 4, 5, 5, 5]\n"
     ]
    }
   ],
   "source": [
    "# [:] copies a list, doesn't alter original\n",
    "#always thinks [start stop step]\n",
    "\n",
    "pearl=[5,5,5,4,5,23,25135,45,3562,35,3452,5,423,345,25,345,25,345]\n",
    "po=pearl\n",
    "po.append(3)\n",
    "print(pearl)\n",
    "\n",
    "clone=pearl[:] #slice the entire list and make a copy\n",
    "print(clone)\n",
    "\n",
    "clone is pearl\n",
    "\n",
    "li= pearl[:5] #starts from begining and up to but not including index 5\n",
    "print(li)\n",
    "\n",
    "l2=pearl[3:] #starts at index 3 to the end\n",
    "print(l2)\n",
    "\n",
    "l3=pearl[3:6] #from index(place) 3-6\n",
    "print(l3)\n",
    "\n",
    "l4=pearl[3:8:2] #starts at index 3 skipping every other one\n",
    "print(l4)\n",
    "\n",
    "#reversing a list using slice:\n",
    "reverse=pearl[::-1] #colons are placeholder for begining and end. going from end to start going backwards\n",
    "print(reverse)"
   ]
  },
  {
   "cell_type": "markdown",
   "metadata": {},
   "source": [
    "##### 'in' keyword"
   ]
  },
  {
   "cell_type": "code",
   "execution_count": 40,
   "metadata": {},
   "outputs": [
    {
     "name": "stdout",
     "output_type": "stream",
     "text": [
      "not found\n"
     ]
    }
   ],
   "source": [
    "#act the same as in strings\n",
    "\n",
    "teachers = ['Brendan', 'Brant', 'Sarah', 'Shoha']\n",
    "if \"Sam\" in teachers:\n",
    "    print('found')\n",
    "else:\n",
    "    print('not found')"
   ]
  },
  {
   "cell_type": "markdown",
   "metadata": {},
   "source": [
    "##### 'not in' keyword"
   ]
  },
  {
   "cell_type": "code",
   "execution_count": null,
   "metadata": {},
   "outputs": [],
   "source": [
    "#see above"
   ]
  },
  {
   "cell_type": "markdown",
   "metadata": {},
   "source": [
    "##### Checking an Empty List"
   ]
  },
  {
   "cell_type": "code",
   "execution_count": 42,
   "metadata": {},
   "outputs": [
    {
     "name": "stdout",
     "output_type": "stream",
     "text": [
      "found an empty list\n"
     ]
    }
   ],
   "source": [
    "# if l_1: or if l_1 = []\n",
    "#checking to see if a list is empty\n",
    "\n",
    "empty=[]\n",
    "\n",
    "if empty == []:\n",
    "    print('found an empty list')\n",
    "    \n",
    "if empty: #since its true the loop is broken and it wont print\n",
    "    print('found aother one')\n"
   ]
  },
  {
   "cell_type": "markdown",
   "metadata": {},
   "source": [
    "##### Removing Instances with a Loop"
   ]
  },
  {
   "cell_type": "code",
   "execution_count": 47,
   "metadata": {},
   "outputs": [
    {
     "name": "stdout",
     "output_type": "stream",
     "text": [
      "Conner\n",
      "Max\n",
      "Max\n",
      "Max\n",
      "Bob\n",
      "['Conner', 'Joel', 'Max', 'Evan', 'Bob']\n",
      "['Conner', 'Joel', 'Evan', 'Bob']\n",
      "['Conner', 'Joel', 'Evan', 'Bob']\n"
     ]
    }
   ],
   "source": [
    "# while, remove\n",
    "\n",
    "names = ['Conner', 'Max', 'Max', \"Max\", \"Joel\", \"Max\", \"Evan\", \"Bob\"]\n",
    "\n",
    "#for loops dont work because the list shifts everytime it finds a 'Max' and that causes it to skip names\n",
    "for name in names:\n",
    "    print(name)\n",
    "    if name == 'Max':\n",
    "        names.remove('Max')\n",
    "        \n",
    "print(names)\n",
    "\n",
    "\n",
    "while \"Max\" in names:\n",
    "    names.remove('Max')\n",
    "print(names)\n",
    "\n",
    "index=0\n",
    "while index < len(names):\n",
    "    if names[index] == 'Max':\n",
    "        names.remove('Max') #or names.pop('Max')\n",
    "    else:\n",
    "        index +=1 #makes loop move forward\n",
    "\n",
    "print(names)\n",
    "        \n",
    "        "
   ]
  },
  {
   "cell_type": "markdown",
   "metadata": {},
   "source": [
    "### List Exercise <br>\n",
    "<p>Remove all duplicates<br><b>Extra: Create a program that will remove any duplicates from a given list</b></p>"
   ]
  },
  {
   "cell_type": "code",
   "execution_count": 48,
   "metadata": {},
   "outputs": [
    {
     "name": "stdout",
     "output_type": "stream",
     "text": [
      "['connor', 'bob', 'evan', 'max', 2, 3, 4, 'kevin']\n"
     ]
    }
   ],
   "source": [
    "names = ['connor', 'connor', 'bob', 'connor', 'evan', 'max', 'evan', 2, 2, 2, 3, 3, 4, 'bob', 'kevin']\n",
    "# Hint 1: You will need an append\n",
    "# Hint 2: Using an empty list will make life easier\n",
    "\n",
    "empty2=[]\n",
    "\n",
    "for name in names:\n",
    "    if name not in empty2: #works because it will only add thing that are not already in there so you wont have any repeats\n",
    "        empty2.append(name)\n",
    "print(empty2)\n",
    "\n",
    "\n"
   ]
  },
  {
   "cell_type": "markdown",
   "metadata": {},
   "source": [
    "### List Comprehensions <br>\n",
    "<p>Creating a quickly generated list to work with<br>*result*  = [*transform*    *iteration*         *filter*     ]</p>"
   ]
  },
  {
   "cell_type": "markdown",
   "metadata": {},
   "source": [
    "##### In a list comprehension we have a few pieces:\n",
    "1. The first is the counter/ variable - IN this the variable is x\n",
    "2. then we have a transform for the variable\n",
    "3. The finale part of a list comp is called the condition\n",
    "\n",
    "```python\n",
    "    [variable, transform, condition]\n",
    "```"
   ]
  },
  {
   "cell_type": "code",
   "execution_count": 59,
   "metadata": {},
   "outputs": [
    {
     "name": "stdout",
     "output_type": "stream",
     "text": [
      "[0, 1, 4, 9, 16, 25, 36, 49, 64, 81, 100, 121, 144, 169, 196, 225, 256, 289, 324, 361]\n",
      "[0, 1, 4, 9, 16, 25, 36, 49, 64, 81, 100, 121, 144, 169, 196, 225, 256, 289, 324, 361, 0, 2, 4, 6, 8, 10, 12, 14, 16, 18]\n",
      "[0, 4, 16, 36, 64, 100, 144, 196, 256, 324]\n"
     ]
    }
   ],
   "source": [
    "# number comprehension\n",
    "\n",
    "# With a regular for loop\n",
    "nums=[]\n",
    "for num in range(20):\n",
    "    nums.append(num**2)\n",
    "print(nums)\n",
    "\n",
    "\n",
    "\n",
    "for num in range(20):\n",
    "    if num % 2 == 0:\n",
    "        nums.append(num)\n",
    "print(nums)\n",
    "\n",
    "\n",
    "\n",
    "# IN a list comprehension we have a few pieces:\n",
    "# The first is the counter/ variable - IN this the variable is x\n",
    "# Then we have a transform for the variable \n",
    "# The finale part of a list comp is called the condition\n",
    "#[variable, transform, condition]\n",
    "\n",
    "nums_lc = [num**2 for num in range(20) if num % 2 ==0]\n",
    "print(nums_lc)\n"
   ]
  },
  {
   "cell_type": "markdown",
   "metadata": {},
   "source": [
    "There are a few benefits to using List comprehensions. The most obvious would be that we now have shorter code to work with instead of using 3+ lines of code in the for loop variant.\n",
    "\n",
    "Another is an added benefit to memory usage. Since the list's memory is allocated first before adding elements to it, we don't have to resize the list once we add elements to it.\n",
    "\n",
    "Lastly, list comprehensions are considered the \"pythonic\" way to write code by the PEP8 standards (Python Style Guide)"
   ]
  },
  {
   "cell_type": "code",
   "execution_count": 67,
   "metadata": {},
   "outputs": [
    {
     "name": "stdout",
     "output_type": "stream",
     "text": [
      "[0, 1, 2, 3, 4, 5, 6, 7, 8, 9]\n",
      "[0, 1, 2, 3, 4, 5, 6, 7, 8, 9]\n"
     ]
    }
   ],
   "source": [
    "# simple number comprehension\n",
    "\n",
    "nums=[]\n",
    "for num in range(10):\n",
    "    nums.append(num)\n",
    "print(nums)\n",
    "\n",
    "nums_lc = [num for num in range(10)]\n",
    "print(nums_lc)"
   ]
  },
  {
   "cell_type": "code",
   "execution_count": 68,
   "metadata": {},
   "outputs": [
    {
     "name": "stdout",
     "output_type": "stream",
     "text": [
      "['Connor', 'Max', 'Evan', 'Jordan', 'Maria', 'Mamoa']\n"
     ]
    }
   ],
   "source": [
    "# string comprehension\n",
    "\n",
    "names =  ['   coNNor', 'max', 'eVan     ', 'JORDAN', 'maria', 'Mamoa']\n",
    "fixed_names = [name.strip().capitalize() for name in names if name[0] .lower]\n",
    "print(fixed_names)"
   ]
  },
  {
   "cell_type": "code",
   "execution_count": null,
   "metadata": {},
   "outputs": [],
   "source": []
  },
  {
   "cell_type": "code",
   "execution_count": null,
   "metadata": {},
   "outputs": [],
   "source": []
  },
  {
   "cell_type": "markdown",
   "metadata": {},
   "source": [
    "### Tuples <br>\n",
    "<p><b>Defined as an immutable list</b></p><br>Seperated by commas using parenthesis"
   ]
  },
  {
   "cell_type": "code",
   "execution_count": 75,
   "metadata": {},
   "outputs": [
    {
     "name": "stdout",
     "output_type": "stream",
     "text": [
      "1\n",
      "<class 'int'>\n",
      "(10, 20, 30)\n",
      "(100, 200, 300)\n",
      "<class 'tuple'>\n",
      "20\n",
      "3\n",
      "100\n",
      "200\n",
      "300\n",
      "0 100\n",
      "1 200\n",
      "2 300\n"
     ]
    },
    {
     "data": {
      "text/plain": [
       "30"
      ]
     },
     "execution_count": 75,
     "metadata": {},
     "output_type": "execute_result"
    }
   ],
   "source": [
    "tup1= (10,20,30)\n",
    "tup2= 100,200,300\n",
    "\n",
    "weird_tuple =(1)\n",
    "print(weird_tuple)\n",
    "print(type(weird_tuple))\n",
    "\n",
    "print(tup1)\n",
    "print(tup2)\n",
    "print(type(tup1))\n",
    "\n",
    "print(tup1[1]) #indexable\n",
    "print(len(tup1)) #gets length\n",
    "\n",
    "for num in tup2:\n",
    "    print(num)\n",
    "    \n",
    "for index in range(len(tup2)):\n",
    "    print(index, tup2[index])\n",
    "    \n",
    "max(tup1)"
   ]
  },
  {
   "cell_type": "markdown",
   "metadata": {},
   "source": [
    "##### sorted()"
   ]
  },
  {
   "cell_type": "code",
   "execution_count": 72,
   "metadata": {},
   "outputs": [
    {
     "name": "stdout",
     "output_type": "stream",
     "text": [
      "[100, 200, 300]\n",
      "<class 'list'>\n",
      "(100, 200, 300)\n",
      "<class 'tuple'>\n"
     ]
    }
   ],
   "source": [
    "#.sorted() wont work because its changing the original - not allowed\n",
    "\n",
    "result= sorted(tup2)\n",
    "print(result)\n",
    "print(type(result))\n",
    "\n",
    "result_tuple = tuple(result)\n",
    "print(result_tuple)\n",
    "print(type(result_tuple))"
   ]
  },
  {
   "cell_type": "markdown",
   "metadata": {},
   "source": [
    "##### Adding values to a Tuple"
   ]
  },
  {
   "cell_type": "code",
   "execution_count": 76,
   "metadata": {},
   "outputs": [
    {
     "name": "stdout",
     "output_type": "stream",
     "text": [
      "(10, 11, 12, 13, 14, 15)\n",
      "(10, 11, 12, 13, 14, 15, 16)\n"
     ]
    }
   ],
   "source": [
    "#cant .append\n",
    "\n",
    "tup3=(10,11,12)\n",
    "tup4=(13,14,15)\n",
    "\n",
    "result= tup3+tup4 #concatenated 2 together\n",
    "print(result)\n",
    "\n",
    "result+=(16,) #made a new result\n",
    "print(result)"
   ]
  },
  {
   "cell_type": "code",
   "execution_count": 78,
   "metadata": {},
   "outputs": [
    {
     "name": "stdout",
     "output_type": "stream",
     "text": [
      "('shoha', 'tsuchida', 'brendan', 'carlson', 16)\n",
      "[('shoha', 'tsuchida'), ('brendan', 'carlson')]\n"
     ]
    }
   ],
   "source": [
    "person1=('shoha', 'tsuchida')\n",
    "person2=(\"brendan\", \"carlson\")\n",
    "result=person1+person2\n",
    "result+=(16,)\n",
    "print(result)\n",
    "people=[person1,person2]\n",
    "print(people)"
   ]
  },
  {
   "cell_type": "markdown",
   "metadata": {},
   "source": [
    "## Functions"
   ]
  },
  {
   "cell_type": "markdown",
   "metadata": {},
   "source": [
    "##### User-Defined vs. Built-In Functions"
   ]
  },
  {
   "cell_type": "code",
   "execution_count": 80,
   "metadata": {},
   "outputs": [],
   "source": [
    "#def name(paramaters, go, here):\n",
    "\n",
    "def say_hello():\n",
    "    print('HELLO THERE!!')"
   ]
  },
  {
   "cell_type": "code",
   "execution_count": 83,
   "metadata": {},
   "outputs": [
    {
     "name": "stdout",
     "output_type": "stream",
     "text": [
      "HELLO THERE!!\n",
      "<class 'function'>\n"
     ]
    }
   ],
   "source": [
    "say_hello()\n",
    "print(type(say_hello))"
   ]
  },
  {
   "cell_type": "markdown",
   "metadata": {},
   "source": [
    "##### Accepting Parameters"
   ]
  },
  {
   "cell_type": "code",
   "execution_count": 88,
   "metadata": {},
   "outputs": [
    {
     "name": "stdout",
     "output_type": "stream",
     "text": [
      "pearl.duncan@codingtemple.com\n",
      "sean.duncan@codingtemple.com\n"
     ]
    }
   ],
   "source": [
    "def generate_email(first_name, last_name):\n",
    "    email= f\"{first_name.lower()}.{last_name.lower()}@codingtemple.com\"\n",
    "    print(email)\n",
    "    \n",
    "generate_email('pearl', 'duncan')\n",
    "generate_email('sean', 'duncan')"
   ]
  },
  {
   "cell_type": "markdown",
   "metadata": {},
   "source": [
    "##### Default Parameters"
   ]
  },
  {
   "cell_type": "code",
   "execution_count": 92,
   "metadata": {},
   "outputs": [
    {
     "name": "stdout",
     "output_type": "stream",
     "text": [
      "pearl.duncan@condingtemple.com\n",
      "sean.duncan@codingtemple.com\n",
      "slkfj.lsejf@google.com\n"
     ]
    }
   ],
   "source": [
    "def generate_email(first_name, last_name, company='codingtemple'):\n",
    "    email= f\"{first_name.lower()}.{last_name.lower()}@{company.lower()}.com\" #or can put .lower() at the end of the string\n",
    "    print(email)\n",
    "    \n",
    "generate_email('pearl', 'duncan', 'condingtemple')\n",
    "generate_email('sean', 'duncan')\n",
    "generate_email('slkfj', 'lsejf', 'google')"
   ]
  },
  {
   "cell_type": "markdown",
   "metadata": {},
   "source": [
    "##### Making an Argument Optional"
   ]
  },
  {
   "cell_type": "code",
   "execution_count": 105,
   "metadata": {},
   "outputs": [
    {
     "name": "stdout",
     "output_type": "stream",
     "text": [
      "pearl..duncan@condingtemple.com\n",
      "sean..duncan@codingtemple.com\n",
      "slkfj..lsejf@google.com\n",
      "marnie.jean.osborne@csi.com\n"
     ]
    }
   ],
   "source": [
    "def generate_email(first_name, last_name, company='codingtemple', middle_name=''):\n",
    "    email= f\"{first_name.lower()}.{middle_name}.{last_name.lower()}@{company.lower()}.com\" #or can put .lower() at the end of the string\n",
    "    print(email)\n",
    "    \n",
    "generate_email('pearl', 'duncan', 'condingtemple')\n",
    "generate_email('sean', 'duncan')\n",
    "generate_email('slkfj', 'lsejf', 'google')\n",
    "generate_email('marnie', 'osborne', 'csi', 'jean')"
   ]
  },
  {
   "cell_type": "markdown",
   "metadata": {},
   "source": [
    "##### Keyword Arguments"
   ]
  },
  {
   "cell_type": "code",
   "execution_count": 119,
   "metadata": {},
   "outputs": [
    {
     "name": "stdout",
     "output_type": "stream",
     "text": [
      "Hello, my name is pearl and I am 21 years old. My favorite color is red and if I could have any superpower in the world it would be flying\n"
     ]
    }
   ],
   "source": [
    "# last_name='Max', first_name='Smith' in the function call\n",
    "\n",
    "# see above\n",
    "def create_profile(name, age=21, favorite_color='red', power='flying'):\n",
    "    introduction=f\"Hello, my name is {name} and I am {age} years old. My favorite color is {favorite_color} and if I could have any superpower in the world it would be {power}\"\n",
    "    print(introduction)\n",
    "    \n",
    "create_profile(\"pearl\")"
   ]
  },
  {
   "cell_type": "markdown",
   "metadata": {},
   "source": [
    "# Creating a start, stop, step function"
   ]
  },
  {
   "cell_type": "code",
   "execution_count": 115,
   "metadata": {},
   "outputs": [],
   "source": [
    "def my_range(start, stop=None, step=1):\n",
    "    if stop is None:\n",
    "        stop=start\n",
    "        start=0\n",
    "    while start < stop:\n",
    "        print(start)\n",
    "        start+=step"
   ]
  },
  {
   "cell_type": "code",
   "execution_count": 122,
   "metadata": {},
   "outputs": [
    {
     "name": "stdout",
     "output_type": "stream",
     "text": [
      "2\n",
      "5\n",
      "8\n"
     ]
    }
   ],
   "source": [
    "my_range(2,10,3)"
   ]
  },
  {
   "cell_type": "markdown",
   "metadata": {},
   "source": [
    "##### Returning Values"
   ]
  },
  {
   "cell_type": "code",
   "execution_count": 124,
   "metadata": {},
   "outputs": [
    {
     "name": "stdout",
     "output_type": "stream",
     "text": [
      "[2, 4, 6, 8]\n"
     ]
    }
   ],
   "source": [
    "def my_range(start, stop=None, step=1):\n",
    "    output=[]\n",
    "    if stop is None:\n",
    "        stop=start\n",
    "        start=0\n",
    "    while start < stop:\n",
    "        output.append(start)\n",
    "        start+=step\n",
    "    return output\n",
    "    \n",
    "result=my_range(2,10,2)\n",
    "print(result)"
   ]
  },
  {
   "cell_type": "markdown",
   "metadata": {},
   "source": [
    "##### *args"
   ]
  },
  {
   "cell_type": "code",
   "execution_count": 131,
   "metadata": {},
   "outputs": [
    {
     "name": "stdout",
     "output_type": "stream",
     "text": [
      "1\n",
      "1\n",
      "(1, 1, 1, 1, 1, 1, 1, 1, 1, 'pearl', [1, 2, 3])\n",
      "{'power': 'flying'}\n"
     ]
    }
   ],
   "source": [
    "def unlimited_options(item1,item2='test', *args, **kwargs):\n",
    "    print(item1)\n",
    "    print(item2)\n",
    "    print(args)\n",
    "    print(kwargs)\n",
    "    \n",
    "    \n",
    "unlimited_options(1,1,1,1,1,1,1,1,1,1,1,'pearl', [1,2,3], power='flying')"
   ]
  },
  {
   "cell_type": "markdown",
   "metadata": {},
   "source": [
    "##### Docstring"
   ]
  },
  {
   "cell_type": "code",
   "execution_count": 132,
   "metadata": {},
   "outputs": [
    {
     "name": "stdout",
     "output_type": "stream",
     "text": [
      "Help on function my_range in module __main__:\n",
      "\n",
      "my_range(start, stop=None, step=1)\n",
      "\n"
     ]
    }
   ],
   "source": [
    "#you can explain what the function is doing by adding ... 'explanation' ... under the first like of your function"
   ]
  },
  {
   "cell_type": "markdown",
   "metadata": {},
   "source": [
    "##### Using a User Function in a Loop"
   ]
  },
  {
   "cell_type": "code",
   "execution_count": 133,
   "metadata": {},
   "outputs": [
    {
     "name": "stdout",
     "output_type": "stream",
     "text": [
      "What do you want to do? (quit or make smoothie)make smoothie\n",
      "pick your first fruitstrawberry\n",
      "pick your second fruitpineapple\n"
     ]
    },
    {
     "ename": "NameError",
     "evalue": "name 'blender' is not defined",
     "output_type": "error",
     "traceback": [
      "\u001b[1;31m---------------------------------------------------------------------------\u001b[0m",
      "\u001b[1;31mNameError\u001b[0m                                 Traceback (most recent call last)",
      "Cell \u001b[1;32mIn[133], line 8\u001b[0m\n\u001b[0;32m      6\u001b[0m f1\u001b[38;5;241m=\u001b[39m \u001b[38;5;28minput\u001b[39m(\u001b[38;5;124m'\u001b[39m\u001b[38;5;124mpick your first fruit\u001b[39m\u001b[38;5;124m'\u001b[39m)\n\u001b[0;32m      7\u001b[0m f2\u001b[38;5;241m=\u001b[39m \u001b[38;5;28minput\u001b[39m(\u001b[38;5;124m'\u001b[39m\u001b[38;5;124mpick your second fruit\u001b[39m\u001b[38;5;124m'\u001b[39m)\n\u001b[1;32m----> 8\u001b[0m smoothie \u001b[38;5;241m=\u001b[39m blender(f1, f2)\n\u001b[0;32m      9\u001b[0m \u001b[38;5;28mprint\u001b[39m(smoothie)\n",
      "\u001b[1;31mNameError\u001b[0m: name 'blender' is not defined"
     ]
    }
   ],
   "source": [
    "while True:\n",
    "    action = input('What do you want to do? (quit or make smoothie)').lower()\n",
    "    if action == 'quit':\n",
    "        break\n",
    "    else:\n",
    "        f1= input('pick your first fruit')\n",
    "        f2= input('pick your second fruit')\n",
    "        smoothie = blender(f1, f2)\n",
    "        print(smoothie)"
   ]
  },
  {
   "cell_type": "markdown",
   "metadata": {},
   "source": [
    "## Function Exercise <br>\n",
    "<p>Write a function that loops through a list of first_names and a list of last_names, combines the two and return a list of full_names</p>"
   ]
  },
  {
   "cell_type": "code",
   "execution_count": 145,
   "metadata": {},
   "outputs": [
    {
     "name": "stdout",
     "output_type": "stream",
     "text": [
      "['John Smith', 'Evan Smith', 'Jordan Williams', 'Max Bell']\n",
      "['Shoha lsdjkf', 'Brendan bob', 'Brandt omg']\n"
     ]
    }
   ],
   "source": [
    "first_name = ['John', 'Evan', 'Jordan', 'Max']\n",
    "last_name = ['Smith', 'Smith', 'Williams', 'Bell']\n",
    "\n",
    "def list_names(first_name, last_name):\n",
    "    new_list = []\n",
    "    for name, last_name in zip(first_name, last_name):\n",
    "       new_list.append(f'{name} {last_name}')\n",
    "    return new_list\n",
    "\n",
    "list_names(first_name, last_name)\n",
    "\n",
    "\n",
    "def combine_names(f_names, l_names):\n",
    "    result=[]\n",
    "    for index in range(len(f_names)):\n",
    "        full_name= f'{f_names[index]} {l_names[index]}'\n",
    "        result.append(full_name)\n",
    "    return result\n",
    "\n",
    "\n",
    "names1 = combine_names(first_name, last_name)\n",
    "names2 = combine_names(['Shoha', 'Brendan', 'Brandt'], ['lsdjkf', 'bob', 'omg'])\n",
    "print(names1)\n",
    "print(names2)\n",
    "\n",
    "# Output: ['John Smith', 'Evan Smith', 'Jordan Williams', 'Max Bell']\n"
   ]
  },
  {
   "cell_type": "markdown",
   "metadata": {},
   "source": [
    "## Scope <br>\n",
    "<p>Scope refers to the ability to access variables, different types of scope include:<br>a) Global<br>b) Function (local)<br>c) Class (local)</p>"
   ]
  },
  {
   "cell_type": "code",
   "execution_count": 135,
   "metadata": {},
   "outputs": [
    {
     "name": "stdout",
     "output_type": "stream",
     "text": [
      "25\n",
      "3\n"
     ]
    },
    {
     "ename": "NameError",
     "evalue": "name 'num2' is not defined",
     "output_type": "error",
     "traceback": [
      "\u001b[1;31m---------------------------------------------------------------------------\u001b[0m",
      "\u001b[1;31mNameError\u001b[0m                                 Traceback (most recent call last)",
      "Cell \u001b[1;32mIn[135], line 11\u001b[0m\n\u001b[0;32m      9\u001b[0m \u001b[38;5;28mprint\u001b[39m(result)\n\u001b[0;32m     10\u001b[0m \u001b[38;5;28mprint\u001b[39m(num)\n\u001b[1;32m---> 11\u001b[0m \u001b[38;5;28mprint\u001b[39m(num2)\n",
      "\u001b[1;31mNameError\u001b[0m: name 'num2' is not defined"
     ]
    }
   ],
   "source": [
    "num =3 #global varaible\n",
    "\n",
    "def func():\n",
    "    num=10 #local function varaible\n",
    "    num2=15#local function varaible\n",
    "    return num + num2 #need to return it so you can access it on the outside\n",
    "\n",
    "result = func()\n",
    "print(result)\n",
    "print(num)\n",
    "print(num2) #doesnt work bc we're not in the function anymore"
   ]
  },
  {
   "cell_type": "code",
   "execution_count": 202,
   "metadata": {},
   "outputs": [
    {
     "name": "stdout",
     "output_type": "stream",
     "text": [
      "[]\n"
     ]
    }
   ],
   "source": [
    "x=[1,11,14,5,8,9]\n",
    "new_list=[]\n",
    "def my_list(x):\n",
    "    for num in x:\n",
    "        if num in x < 10:\n",
    "            new_list.append(x)\n",
    "        \n",
    "\n",
    "\n",
    "print(new_list)"
   ]
  },
  {
   "cell_type": "code",
   "execution_count": 194,
   "metadata": {},
   "outputs": [
    {
     "name": "stdout",
     "output_type": "stream",
     "text": [
      "[]\n"
     ]
    }
   ],
   "source": [
    "sequence= [1,11,14,5,8,9]\n",
    "value= 10\n",
    "new_list=[]\n",
    "def smaller_than(sequence, value):\n",
    "    return [item for item in sequence if num < value]\n",
    "    new_list.append(smaller_than)\n",
    "print(new_list)"
   ]
  },
  {
   "cell_type": "code",
   "execution_count": 187,
   "metadata": {},
   "outputs": [
    {
     "name": "stdout",
     "output_type": "stream",
     "text": [
      "[1, 2, 3, 4, 5, 6, 7, 8, 10]\n"
     ]
    }
   ],
   "source": [
    "for x in l_1:\n",
    "    if x not in empty0:\n",
    "        empty0.append(x)\n",
    "print(empty0)"
   ]
  },
  {
   "cell_type": "code",
   "execution_count": 233,
   "metadata": {},
   "outputs": [
    {
     "ename": "NameError",
     "evalue": "name 'number' is not defined",
     "output_type": "error",
     "traceback": [
      "\u001b[1;31m---------------------------------------------------------------------------\u001b[0m",
      "\u001b[1;31mNameError\u001b[0m                                 Traceback (most recent call last)",
      "Cell \u001b[1;32mIn[233], line 3\u001b[0m\n\u001b[0;32m      1\u001b[0m li9 \u001b[38;5;241m=\u001b[39m [\u001b[38;5;241m1\u001b[39m,\u001b[38;5;241m11\u001b[39m,\u001b[38;5;241m14\u001b[39m,\u001b[38;5;241m5\u001b[39m,\u001b[38;5;241m8\u001b[39m,\u001b[38;5;241m9\u001b[39m]\n\u001b[0;32m      2\u001b[0m new_list\u001b[38;5;241m=\u001b[39m[]\n\u001b[1;32m----> 3\u001b[0m \u001b[38;5;28;01mif\u001b[39;00m number \u001b[38;5;129;01min\u001b[39;00m li9 \u001b[38;5;241m<\u001b[39m \u001b[38;5;241m10\u001b[39m:\n\u001b[0;32m      4\u001b[0m     new_list\u001b[38;5;241m.\u001b[39mappend(number)\n\u001b[0;32m      5\u001b[0m \u001b[38;5;28;01melse\u001b[39;00m: \n",
      "\u001b[1;31mNameError\u001b[0m: name 'number' is not defined"
     ]
    }
   ],
   "source": [
    "li9 = [1,11,14,5,8,9]\n",
    "new_list=[]\n",
    "if number in li9 < 10:\n",
    "    new_list.append(number)\n",
    "else: \n",
    "    index +=1\n",
    "    \n",
    "print(new_list)\n"
   ]
  },
  {
   "cell_type": "code",
   "execution_count": 6,
   "metadata": {},
   "outputs": [
    {
     "name": "stdout",
     "output_type": "stream",
     "text": [
      "[1, 5, 8, 9]\n"
     ]
    }
   ],
   "source": [
    "x=[1,11,14,5,8,9]\n",
    "new_list=[]\n",
    "\n",
    "for num in x:\n",
    "    if num < 10:\n",
    "          new_list.append(num)\n",
    "print(new_list)\n",
    "    \n",
    "#why isnt .append workin???????"
   ]
  },
  {
   "cell_type": "code",
   "execution_count": 3,
   "metadata": {},
   "outputs": [
    {
     "name": "stdout",
     "output_type": "stream",
     "text": [
      "1\n",
      "5\n",
      "8\n",
      "9\n"
     ]
    }
   ],
   "source": [
    "x=[1,11,14,5,8,9]\n",
    "for num in x:\n",
    "    if num < 10:\n",
    "        print(num)\n",
    "        \n",
    "\n",
    "\n",
    "#this one is the closest"
   ]
  },
  {
   "cell_type": "code",
   "execution_count": 7,
   "metadata": {},
   "outputs": [
    {
     "name": "stdout",
     "output_type": "stream",
     "text": [
      "[1, 5, 8, 9]\n"
     ]
    }
   ],
   "source": [
    "x=[1,11,14,5,8,9]\n",
    "new_list=[]\n",
    "\n",
    "for num in x:\n",
    "    if num < 10:\n",
    "          new_list.append(num)\n",
    "print(new_list)"
   ]
  },
  {
   "cell_type": "code",
   "execution_count": 8,
   "metadata": {},
   "outputs": [
    {
     "name": "stdout",
     "output_type": "stream",
     "text": [
      "[1, 2, 3, 3, 4, 4, 5, 5, 6, 6, 7, 8, 10]\n"
     ]
    }
   ],
   "source": [
    "l_1 = [1,2,3,4,5,6]\n",
    "l_2 = [3,4,5,6,7,8,10]\n",
    "\n",
    "result=sorted(l_1 + l_2)\n",
    "    \n",
    "print(result)"
   ]
  },
  {
   "cell_type": "markdown",
   "metadata": {},
   "source": [
    "# Exercises"
   ]
  },
  {
   "cell_type": "markdown",
   "metadata": {},
   "source": [
    "## Exercise 1 <br>\n",
    "<p>Given a list as a parameter,write a function that returns a list of numbers that are less than ten</b></i></p><br>\n",
    "<p> For example: Say your input parameter to the function is [1,11,14,5,8,9]...Your output should [1,5,8,9]</p>"
   ]
  },
  {
   "cell_type": "code",
   "execution_count": null,
   "metadata": {},
   "outputs": [],
   "source": [
    "# Use the following list - [1,11,14,5,8,9]\n",
    "\n",
    "x=[1,11,14,5,8,9]\n",
    "new_list=[]\n",
    "\n",
    "for num in x:\n",
    "    if num < 10:\n",
    "          new_list.append(num)\n",
    "print(new_list)"
   ]
  },
  {
   "cell_type": "markdown",
   "metadata": {},
   "source": [
    "## Exercise 2 <br>\n",
    "<p>Write a function that takes in two lists and returns the two lists merged together and sorted<br>\n",
    "<b><i>Hint: You can use the .sort() method</i></b></p>"
   ]
  },
  {
   "cell_type": "code",
   "execution_count": null,
   "metadata": {},
   "outputs": [],
   "source": [
    "\n",
    "l_1 = [1,2,3,4,5,6]\n",
    "l_2 = [3,4,5,6,7,8,10]\n",
    "\n",
    "result=sorted(l_1 + l_2)\n",
    "    \n",
    "print(result)\n",
    "\n"
   ]
  }
 ],
 "metadata": {
  "kernelspec": {
   "display_name": "Python 3 (ipykernel)",
   "language": "python",
   "name": "python3"
  },
  "language_info": {
   "codemirror_mode": {
    "name": "ipython",
    "version": 3
   },
   "file_extension": ".py",
   "mimetype": "text/x-python",
   "name": "python",
   "nbconvert_exporter": "python",
   "pygments_lexer": "ipython3",
   "version": "3.11.4"
  }
 },
 "nbformat": 4,
 "nbformat_minor": 2
}
